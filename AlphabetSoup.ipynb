{
 "cells": [
  {
   "cell_type": "markdown",
   "metadata": {},
   "source": [
    "## Preprocessing"
   ]
  },
  {
   "cell_type": "code",
   "execution_count": 16,
   "metadata": {},
   "outputs": [
    {
     "name": "stderr",
     "output_type": "stream",
     "text": [
      "/Library/Frameworks/Python.framework/Versions/3.11/lib/python3.11/site-packages/urllib3/connectionpool.py:1045: InsecureRequestWarning: Unverified HTTPS request is being made to host 'static.bc-edx.com'. Adding certificate verification is strongly advised. See: https://urllib3.readthedocs.io/en/1.26.x/advanced-usage.html#ssl-warnings\n",
      "  warnings.warn(\n"
     ]
    },
    {
     "data": {
      "text/html": [
       "<div>\n",
       "<style scoped>\n",
       "    .dataframe tbody tr th:only-of-type {\n",
       "        vertical-align: middle;\n",
       "    }\n",
       "\n",
       "    .dataframe tbody tr th {\n",
       "        vertical-align: top;\n",
       "    }\n",
       "\n",
       "    .dataframe thead th {\n",
       "        text-align: right;\n",
       "    }\n",
       "</style>\n",
       "<table border=\"1\" class=\"dataframe\">\n",
       "  <thead>\n",
       "    <tr style=\"text-align: right;\">\n",
       "      <th></th>\n",
       "      <th>EIN</th>\n",
       "      <th>NAME</th>\n",
       "      <th>APPLICATION_TYPE</th>\n",
       "      <th>AFFILIATION</th>\n",
       "      <th>CLASSIFICATION</th>\n",
       "      <th>USE_CASE</th>\n",
       "      <th>ORGANIZATION</th>\n",
       "      <th>STATUS</th>\n",
       "      <th>INCOME_AMT</th>\n",
       "      <th>SPECIAL_CONSIDERATIONS</th>\n",
       "      <th>ASK_AMT</th>\n",
       "      <th>IS_SUCCESSFUL</th>\n",
       "    </tr>\n",
       "  </thead>\n",
       "  <tbody>\n",
       "    <tr>\n",
       "      <th>0</th>\n",
       "      <td>10520599</td>\n",
       "      <td>BLUE KNIGHTS MOTORCYCLE CLUB</td>\n",
       "      <td>T10</td>\n",
       "      <td>Independent</td>\n",
       "      <td>C1000</td>\n",
       "      <td>ProductDev</td>\n",
       "      <td>Association</td>\n",
       "      <td>1</td>\n",
       "      <td>0</td>\n",
       "      <td>N</td>\n",
       "      <td>5000</td>\n",
       "      <td>1</td>\n",
       "    </tr>\n",
       "    <tr>\n",
       "      <th>1</th>\n",
       "      <td>10531628</td>\n",
       "      <td>AMERICAN CHESAPEAKE CLUB CHARITABLE TR</td>\n",
       "      <td>T3</td>\n",
       "      <td>Independent</td>\n",
       "      <td>C2000</td>\n",
       "      <td>Preservation</td>\n",
       "      <td>Co-operative</td>\n",
       "      <td>1</td>\n",
       "      <td>1-9999</td>\n",
       "      <td>N</td>\n",
       "      <td>108590</td>\n",
       "      <td>1</td>\n",
       "    </tr>\n",
       "    <tr>\n",
       "      <th>2</th>\n",
       "      <td>10547893</td>\n",
       "      <td>ST CLOUD PROFESSIONAL FIREFIGHTERS</td>\n",
       "      <td>T5</td>\n",
       "      <td>CompanySponsored</td>\n",
       "      <td>C3000</td>\n",
       "      <td>ProductDev</td>\n",
       "      <td>Association</td>\n",
       "      <td>1</td>\n",
       "      <td>0</td>\n",
       "      <td>N</td>\n",
       "      <td>5000</td>\n",
       "      <td>0</td>\n",
       "    </tr>\n",
       "    <tr>\n",
       "      <th>3</th>\n",
       "      <td>10553066</td>\n",
       "      <td>SOUTHSIDE ATHLETIC ASSOCIATION</td>\n",
       "      <td>T3</td>\n",
       "      <td>CompanySponsored</td>\n",
       "      <td>C2000</td>\n",
       "      <td>Preservation</td>\n",
       "      <td>Trust</td>\n",
       "      <td>1</td>\n",
       "      <td>10000-24999</td>\n",
       "      <td>N</td>\n",
       "      <td>6692</td>\n",
       "      <td>1</td>\n",
       "    </tr>\n",
       "    <tr>\n",
       "      <th>4</th>\n",
       "      <td>10556103</td>\n",
       "      <td>GENETIC RESEARCH INSTITUTE OF THE DESERT</td>\n",
       "      <td>T3</td>\n",
       "      <td>Independent</td>\n",
       "      <td>C1000</td>\n",
       "      <td>Heathcare</td>\n",
       "      <td>Trust</td>\n",
       "      <td>1</td>\n",
       "      <td>100000-499999</td>\n",
       "      <td>N</td>\n",
       "      <td>142590</td>\n",
       "      <td>1</td>\n",
       "    </tr>\n",
       "  </tbody>\n",
       "</table>\n",
       "</div>"
      ],
      "text/plain": [
       "        EIN                                      NAME APPLICATION_TYPE  \\\n",
       "0  10520599              BLUE KNIGHTS MOTORCYCLE CLUB              T10   \n",
       "1  10531628    AMERICAN CHESAPEAKE CLUB CHARITABLE TR               T3   \n",
       "2  10547893        ST CLOUD PROFESSIONAL FIREFIGHTERS               T5   \n",
       "3  10553066            SOUTHSIDE ATHLETIC ASSOCIATION               T3   \n",
       "4  10556103  GENETIC RESEARCH INSTITUTE OF THE DESERT               T3   \n",
       "\n",
       "        AFFILIATION CLASSIFICATION      USE_CASE  ORGANIZATION  STATUS  \\\n",
       "0       Independent          C1000    ProductDev   Association       1   \n",
       "1       Independent          C2000  Preservation  Co-operative       1   \n",
       "2  CompanySponsored          C3000    ProductDev   Association       1   \n",
       "3  CompanySponsored          C2000  Preservation         Trust       1   \n",
       "4       Independent          C1000     Heathcare         Trust       1   \n",
       "\n",
       "      INCOME_AMT SPECIAL_CONSIDERATIONS  ASK_AMT  IS_SUCCESSFUL  \n",
       "0              0                      N     5000              1  \n",
       "1         1-9999                      N   108590              1  \n",
       "2              0                      N     5000              0  \n",
       "3    10000-24999                      N     6692              1  \n",
       "4  100000-499999                      N   142590              1  "
      ]
     },
     "execution_count": 16,
     "metadata": {},
     "output_type": "execute_result"
    }
   ],
   "source": [
    "# Import our dependencies\n",
    "from sklearn.model_selection import train_test_split\n",
    "from sklearn.preprocessing import StandardScaler\n",
    "import pandas as pd\n",
    "import tensorflow as tf\n",
    "import requests\n",
    "from io import StringIO\n",
    "\n",
    "#  Import and read the charity_data.csv.\n",
    "r = requests.get(\"https://static.bc-edx.com/data/dl-1-2/m21/lms/starter/charity_data.csv\", verify=False)\n",
    "data = StringIO(r.text)\n",
    "application_df = pd.read_csv(data)\n",
    "application_df.head()"
   ]
  },
  {
   "cell_type": "code",
   "execution_count": 17,
   "metadata": {},
   "outputs": [],
   "source": [
    "# Drop the non-beneficial ID columns, 'EIN' and 'NAME'.\n",
    "application_df.drop(['EIN', 'NAME'], axis=1, inplace=True)"
   ]
  },
  {
   "cell_type": "code",
   "execution_count": 18,
   "metadata": {},
   "outputs": [
    {
     "data": {
      "text/plain": [
       "APPLICATION_TYPE            17\n",
       "AFFILIATION                  6\n",
       "CLASSIFICATION              71\n",
       "USE_CASE                     5\n",
       "ORGANIZATION                 4\n",
       "STATUS                       2\n",
       "INCOME_AMT                   9\n",
       "SPECIAL_CONSIDERATIONS       2\n",
       "ASK_AMT                   8747\n",
       "IS_SUCCESSFUL                2\n",
       "dtype: int64"
      ]
     },
     "execution_count": 18,
     "metadata": {},
     "output_type": "execute_result"
    }
   ],
   "source": [
    "# Determine the number of unique values in each column.\n",
    "application_df.nunique()"
   ]
  },
  {
   "cell_type": "code",
   "execution_count": 19,
   "metadata": {},
   "outputs": [
    {
     "data": {
      "text/plain": [
       "T3     27037\n",
       "T4      1542\n",
       "T6      1216\n",
       "T5      1173\n",
       "T19     1065\n",
       "T8       737\n",
       "T7       725\n",
       "T10      528\n",
       "T9       156\n",
       "T13       66\n",
       "T12       27\n",
       "T2        16\n",
       "T25        3\n",
       "T14        3\n",
       "T29        2\n",
       "T15        2\n",
       "T17        1\n",
       "Name: APPLICATION_TYPE, dtype: int64"
      ]
     },
     "execution_count": 19,
     "metadata": {},
     "output_type": "execute_result"
    }
   ],
   "source": [
    "# Look at APPLICATION_TYPE value counts for binning\n",
    "application_counts = application_df['APPLICATION_TYPE'].value_counts()\n",
    "application_counts"
   ]
  },
  {
   "cell_type": "code",
   "execution_count": 20,
   "metadata": {},
   "outputs": [
    {
     "data": {
      "text/plain": [
       "T3     27037\n",
       "T4      1542\n",
       "T6      1216\n",
       "T5      1173\n",
       "T19     1065\n",
       "T8       737\n",
       "T7       725\n",
       "T10      528\n",
       "T9       156\n",
       "T13       66\n",
       "T12       27\n",
       "T2        16\n",
       "T25        3\n",
       "T14        3\n",
       "T29        2\n",
       "T15        2\n",
       "T17        1\n",
       "Name: APPLICATION_TYPE, dtype: int64"
      ]
     },
     "execution_count": 20,
     "metadata": {},
     "output_type": "execute_result"
    }
   ],
   "source": [
    "# Choose a cutoff value and create a list of application types to be replaced use the variable name `application_types_to_replace`\n",
    "application_types_to_replace = list(application_counts[application_counts < 1].index)\n",
    "\n",
    "# Replace in dataframe\n",
    "for app in application_types_to_replace:\n",
    "    application_df['APPLICATION_TYPE'] = application_df['APPLICATION_TYPE'].replace(app,\"Other\")\n",
    "\n",
    "# Check to make sure binning was successful\n",
    "application_df['APPLICATION_TYPE'].value_counts()"
   ]
  },
  {
   "cell_type": "code",
   "execution_count": 21,
   "metadata": {},
   "outputs": [
    {
     "data": {
      "text/plain": [
       "C1000    17326\n",
       "C2000     6074\n",
       "C1200     4837\n",
       "C3000     1918\n",
       "C2100     1883\n",
       "         ...  \n",
       "C4120        1\n",
       "C8210        1\n",
       "C2561        1\n",
       "C4500        1\n",
       "C2150        1\n",
       "Name: CLASSIFICATION, Length: 71, dtype: int64"
      ]
     },
     "execution_count": 21,
     "metadata": {},
     "output_type": "execute_result"
    }
   ],
   "source": [
    "# Look at CLASSIFICATION value counts for binning\n",
    "classification_counts = application_df['CLASSIFICATION'].value_counts()\n",
    "classification_counts"
   ]
  },
  {
   "cell_type": "code",
   "execution_count": 22,
   "metadata": {},
   "outputs": [
    {
     "data": {
      "text/plain": [
       "C1000    17326\n",
       "C2000     6074\n",
       "C1200     4837\n",
       "C3000     1918\n",
       "C2100     1883\n",
       "C7000      777\n",
       "C1700      287\n",
       "C4000      194\n",
       "C5000      116\n",
       "C1270      114\n",
       "C2700      104\n",
       "C2800       95\n",
       "C7100       75\n",
       "C1300       58\n",
       "C1280       50\n",
       "C1230       36\n",
       "C1400       34\n",
       "C7200       32\n",
       "C2300       32\n",
       "C1240       30\n",
       "C8000       20\n",
       "C7120       18\n",
       "C1500       16\n",
       "C1800       15\n",
       "C6000       15\n",
       "C1250       14\n",
       "C8200       11\n",
       "C1238       10\n",
       "C1278       10\n",
       "C1235        9\n",
       "C1237        9\n",
       "C7210        7\n",
       "C2400        6\n",
       "C1720        6\n",
       "C4100        6\n",
       "C1257        5\n",
       "C1600        5\n",
       "C1260        3\n",
       "C2710        3\n",
       "C0           3\n",
       "C3200        2\n",
       "C1234        2\n",
       "C1246        2\n",
       "C1267        2\n",
       "C1256        2\n",
       "Name: CLASSIFICATION, dtype: int64"
      ]
     },
     "execution_count": 22,
     "metadata": {},
     "output_type": "execute_result"
    }
   ],
   "source": [
    "# You may find it helpful to look at CLASSIFICATION value counts >1\n",
    "classification_counts[classification_counts > 1]"
   ]
  },
  {
   "cell_type": "code",
   "execution_count": 23,
   "metadata": {},
   "outputs": [
    {
     "data": {
      "text/plain": [
       "C1000    17326\n",
       "C2000     6074\n",
       "C1200     4837\n",
       "C3000     1918\n",
       "C2100     1883\n",
       "         ...  \n",
       "C4120        1\n",
       "C8210        1\n",
       "C2561        1\n",
       "C4500        1\n",
       "C2150        1\n",
       "Name: CLASSIFICATION, Length: 71, dtype: int64"
      ]
     },
     "execution_count": 23,
     "metadata": {},
     "output_type": "execute_result"
    }
   ],
   "source": [
    "# Choose a cutoff value and create a list of classifications to be replaced use the variable name `classifications_to_replace`\n",
    "classifications_to_replace = list(classification_counts[classification_counts < 1].index)\n",
    "\n",
    "# Replace in dataframe\n",
    "for cls in classifications_to_replace:\n",
    "    application_df['CLASSIFICATION'] = application_df['CLASSIFICATION'].replace(cls,\"Other\")\n",
    "    \n",
    "# Check to make sure binning was successful\n",
    "application_df['CLASSIFICATION'].value_counts()"
   ]
  },
  {
   "cell_type": "code",
   "execution_count": 24,
   "metadata": {},
   "outputs": [
    {
     "data": {
      "text/plain": [
       "Index(['STATUS', 'ASK_AMT', 'IS_SUCCESSFUL', 'APPLICATION_TYPE_T10',\n",
       "       'APPLICATION_TYPE_T12', 'APPLICATION_TYPE_T13', 'APPLICATION_TYPE_T14',\n",
       "       'APPLICATION_TYPE_T15', 'APPLICATION_TYPE_T17', 'APPLICATION_TYPE_T19',\n",
       "       ...\n",
       "       'INCOME_AMT_1-9999', 'INCOME_AMT_10000-24999',\n",
       "       'INCOME_AMT_100000-499999', 'INCOME_AMT_10M-50M', 'INCOME_AMT_1M-5M',\n",
       "       'INCOME_AMT_25000-99999', 'INCOME_AMT_50M+', 'INCOME_AMT_5M-10M',\n",
       "       'SPECIAL_CONSIDERATIONS_N', 'SPECIAL_CONSIDERATIONS_Y'],\n",
       "      dtype='object', length=117)"
      ]
     },
     "execution_count": 24,
     "metadata": {},
     "output_type": "execute_result"
    }
   ],
   "source": [
    "# Convert categorical data to numeric with `pd.get_dummies`\n",
    "application_df = pd.get_dummies(application_df)\n",
    "application_df.columns"
   ]
  },
  {
   "cell_type": "code",
   "execution_count": 25,
   "metadata": {},
   "outputs": [],
   "source": [
    "# Split our preprocessed data into our features and target arrays\n",
    "y = application_df['IS_SUCCESSFUL'].values\n",
    "X = application_df.drop(['IS_SUCCESSFUL', 'ASK_AMT'], axis=1).values\n",
    "\n",
    "# Split the preprocessed data into a training and testing dataset\n",
    "X_train, X_test, y_train, y_test = train_test_split(X, y, random_state=44)"
   ]
  },
  {
   "cell_type": "code",
   "execution_count": 26,
   "metadata": {},
   "outputs": [],
   "source": [
    "# Create a StandardScaler instances\n",
    "scaler = StandardScaler()\n",
    "\n",
    "# Fit the StandardScaler\n",
    "X_scaler = scaler.fit(X_train)\n",
    "\n",
    "# Scale the data\n",
    "X_train_scaled = X_scaler.transform(X_train)\n",
    "X_test_scaled = X_scaler.transform(X_test)"
   ]
  },
  {
   "cell_type": "markdown",
   "metadata": {},
   "source": [
    "## Compile, Train and Evaluate the Model"
   ]
  },
  {
   "cell_type": "code",
   "execution_count": 27,
   "metadata": {},
   "outputs": [
    {
     "name": "stdout",
     "output_type": "stream",
     "text": [
      "Model: \"sequential_1\"\n",
      "_________________________________________________________________\n",
      " Layer (type)                Output Shape              Param #   \n",
      "=================================================================\n",
      " dense_5 (Dense)             (None, 80)                9280      \n",
      "                                                                 \n",
      " dense_6 (Dense)             (None, 80)                6480      \n",
      "                                                                 \n",
      " dense_7 (Dense)             (None, 30)                2430      \n",
      "                                                                 \n",
      " dense_8 (Dense)             (None, 10)                310       \n",
      "                                                                 \n",
      " dense_9 (Dense)             (None, 1)                 11        \n",
      "                                                                 \n"
     ]
    },
    {
     "name": "stdout",
     "output_type": "stream",
     "text": [
      "=================================================================\n",
      "Total params: 18511 (72.31 KB)\n",
      "Trainable params: 18511 (72.31 KB)\n",
      "Non-trainable params: 0 (0.00 Byte)\n",
      "_________________________________________________________________\n"
     ]
    }
   ],
   "source": [
    "# Define the model - deep neural net, i.e., the number of input features and hidden nodes for each layer.\n",
    "number_input_features = len(X_train[0])\n",
    "\n",
    "nn = tf.keras.models.Sequential()\n",
    "\n",
    "# First hidden layer\n",
    "hidden_nodes_layer1 =  80\n",
    "nn.add(tf.keras.layers.Dense(units=hidden_nodes_layer1, input_dim=number_input_features, activation=\"relu\"))\n",
    "\n",
    "# Second hidden layer\n",
    "hidden_nodes_layer2 = 80\n",
    "nn.add(tf.keras.layers.Dense(units=hidden_nodes_layer2, activation=\"relu\"))\n",
    "\n",
    "# Third hidden layer\n",
    "hidden_nodes_layer3 = 30\n",
    "nn.add(tf.keras.layers.Dense(units=hidden_nodes_layer3, activation=\"sigmoid\"))\n",
    "\n",
    "# Fourth hidden layer\n",
    "hidden_nodes_layer4 = 10\n",
    "nn.add(tf.keras.layers.Dense(units=hidden_nodes_layer4, activation=\"sigmoid\"))\n",
    "\n",
    "# Output layer\n",
    "number_output_neurons = 1\n",
    "nn.add(tf.keras.layers.Dense(units=number_output_neurons, activation=\"sigmoid\"))\n",
    "\n",
    "# Check the structure of the model\n",
    "nn.summary()"
   ]
  },
  {
   "cell_type": "code",
   "execution_count": 28,
   "metadata": {},
   "outputs": [],
   "source": [
    "# Compile the model\n",
    "nn.compile(loss=\"binary_crossentropy\", optimizer=\"adam\", metrics=[\"accuracy\"])"
   ]
  },
  {
   "cell_type": "code",
   "execution_count": 29,
   "metadata": {},
   "outputs": [
    {
     "name": "stdout",
     "output_type": "stream",
     "text": [
      "WARNING:tensorflow:`period` argument is deprecated. Please use `save_freq` to specify the frequency in number of batches seen.\n",
      "Epoch 1/100\n",
      "644/644 [==============================] - 1s 835us/step - loss: 0.5790 - accuracy: 0.7166 - val_loss: 0.5625 - val_accuracy: 0.7289\n",
      "Epoch 2/100\n",
      "644/644 [==============================] - 0s 747us/step - loss: 0.5536 - accuracy: 0.7339 - val_loss: 0.5591 - val_accuracy: 0.7285\n",
      "Epoch 3/100\n",
      "644/644 [==============================] - 0s 755us/step - loss: 0.5500 - accuracy: 0.7347 - val_loss: 0.5578 - val_accuracy: 0.7283\n",
      "Epoch 4/100\n",
      "644/644 [==============================] - 0s 737us/step - loss: 0.5473 - accuracy: 0.7355 - val_loss: 0.5539 - val_accuracy: 0.7308\n",
      "Epoch 5/100\n",
      "614/644 [===========================>..] - ETA: 0s - loss: 0.5446 - accuracy: 0.7364\n",
      "Epoch 5: saving model to checkpoints/weights.05.hdf5\n",
      "644/644 [==============================] - 0s 748us/step - loss: 0.5455 - accuracy: 0.7359 - val_loss: 0.5536 - val_accuracy: 0.7318\n",
      "Epoch 6/100\n",
      "644/644 [==============================] - 0s 740us/step - loss: 0.5436 - accuracy: 0.7363 - val_loss: 0.5507 - val_accuracy: 0.7302\n",
      "Epoch 7/100\n",
      "644/644 [==============================] - 0s 749us/step - loss: 0.5420 - accuracy: 0.7382 - val_loss: 0.5510 - val_accuracy: 0.7329\n",
      "Epoch 8/100\n",
      "644/644 [==============================] - 0s 762us/step - loss: 0.5404 - accuracy: 0.7375 - val_loss: 0.5511 - val_accuracy: 0.7310\n",
      "Epoch 9/100\n",
      "644/644 [==============================] - 0s 738us/step - loss: 0.5399 - accuracy: 0.7388 - val_loss: 0.5510 - val_accuracy: 0.7310\n",
      "Epoch 10/100\n",
      "604/644 [===========================>..] - ETA: 0s - loss: 0.5371 - accuracy: 0.7403\n",
      "Epoch 10: saving model to checkpoints/weights.10.hdf5\n",
      "644/644 [==============================] - 0s 764us/step - loss: 0.5386 - accuracy: 0.7398 - val_loss: 0.5501 - val_accuracy: 0.7302\n",
      "Epoch 11/100\n",
      "644/644 [==============================] - 0s 748us/step - loss: 0.5380 - accuracy: 0.7390 - val_loss: 0.5527 - val_accuracy: 0.7306\n",
      "Epoch 12/100\n",
      "644/644 [==============================] - 0s 746us/step - loss: 0.5370 - accuracy: 0.7397 - val_loss: 0.5556 - val_accuracy: 0.7283\n",
      "Epoch 13/100\n",
      "644/644 [==============================] - 0s 735us/step - loss: 0.5362 - accuracy: 0.7407 - val_loss: 0.5525 - val_accuracy: 0.7279\n",
      "Epoch 14/100\n",
      "644/644 [==============================] - 0s 754us/step - loss: 0.5351 - accuracy: 0.7410 - val_loss: 0.5521 - val_accuracy: 0.7285\n",
      "Epoch 15/100\n",
      "628/644 [============================>.] - ETA: 0s - loss: 0.5358 - accuracy: 0.7400\n",
      "Epoch 15: saving model to checkpoints/weights.15.hdf5\n",
      "644/644 [==============================] - 0s 733us/step - loss: 0.5351 - accuracy: 0.7408 - val_loss: 0.5515 - val_accuracy: 0.7294\n",
      "Epoch 16/100\n",
      "644/644 [==============================] - 0s 731us/step - loss: 0.5336 - accuracy: 0.7420 - val_loss: 0.5532 - val_accuracy: 0.7267\n",
      "Epoch 17/100\n",
      "644/644 [==============================] - 0s 731us/step - loss: 0.5337 - accuracy: 0.7425 - val_loss: 0.5510 - val_accuracy: 0.7320\n",
      "Epoch 18/100\n",
      "644/644 [==============================] - 0s 739us/step - loss: 0.5328 - accuracy: 0.7429 - val_loss: 0.5533 - val_accuracy: 0.7281\n",
      "Epoch 19/100\n",
      "644/644 [==============================] - 0s 740us/step - loss: 0.5317 - accuracy: 0.7435 - val_loss: 0.5545 - val_accuracy: 0.7296\n",
      "Epoch 20/100\n",
      "631/644 [============================>.] - ETA: 0s - loss: 0.5315 - accuracy: 0.7418\n",
      "Epoch 20: saving model to checkpoints/weights.20.hdf5\n",
      "644/644 [==============================] - 0s 735us/step - loss: 0.5319 - accuracy: 0.7419 - val_loss: 0.5516 - val_accuracy: 0.7302\n",
      "Epoch 21/100\n",
      "644/644 [==============================] - 1s 778us/step - loss: 0.5313 - accuracy: 0.7436 - val_loss: 0.5519 - val_accuracy: 0.7277\n",
      "Epoch 22/100\n",
      "644/644 [==============================] - 0s 743us/step - loss: 0.5307 - accuracy: 0.7446 - val_loss: 0.5536 - val_accuracy: 0.7254\n",
      "Epoch 23/100\n",
      "644/644 [==============================] - 0s 736us/step - loss: 0.5305 - accuracy: 0.7425 - val_loss: 0.5540 - val_accuracy: 0.7291\n",
      "Epoch 24/100\n",
      "644/644 [==============================] - 0s 773us/step - loss: 0.5296 - accuracy: 0.7437 - val_loss: 0.5518 - val_accuracy: 0.7296\n",
      "Epoch 25/100\n",
      "585/644 [==========================>...] - ETA: 0s - loss: 0.5286 - accuracy: 0.7437\n",
      "Epoch 25: saving model to checkpoints/weights.25.hdf5\n",
      "644/644 [==============================] - 1s 779us/step - loss: 0.5296 - accuracy: 0.7438 - val_loss: 0.5525 - val_accuracy: 0.7302\n",
      "Epoch 26/100\n",
      "644/644 [==============================] - 0s 749us/step - loss: 0.5289 - accuracy: 0.7438 - val_loss: 0.5572 - val_accuracy: 0.7285\n",
      "Epoch 27/100\n",
      "644/644 [==============================] - 0s 770us/step - loss: 0.5298 - accuracy: 0.7434 - val_loss: 0.5549 - val_accuracy: 0.7283\n",
      "Epoch 28/100\n",
      "644/644 [==============================] - 0s 737us/step - loss: 0.5291 - accuracy: 0.7437 - val_loss: 0.5549 - val_accuracy: 0.7294\n",
      "Epoch 29/100\n",
      "644/644 [==============================] - 0s 760us/step - loss: 0.5281 - accuracy: 0.7442 - val_loss: 0.5551 - val_accuracy: 0.7300\n",
      "Epoch 30/100\n",
      "604/644 [===========================>..] - ETA: 0s - loss: 0.5285 - accuracy: 0.7447\n",
      "Epoch 30: saving model to checkpoints/weights.30.hdf5\n",
      "644/644 [==============================] - 0s 759us/step - loss: 0.5284 - accuracy: 0.7441 - val_loss: 0.5547 - val_accuracy: 0.7281\n",
      "Epoch 31/100\n",
      "644/644 [==============================] - 0s 734us/step - loss: 0.5273 - accuracy: 0.7446 - val_loss: 0.5555 - val_accuracy: 0.7302\n",
      "Epoch 32/100\n",
      "644/644 [==============================] - 0s 742us/step - loss: 0.5279 - accuracy: 0.7451 - val_loss: 0.5548 - val_accuracy: 0.7312\n",
      "Epoch 33/100\n",
      "644/644 [==============================] - 0s 760us/step - loss: 0.5273 - accuracy: 0.7450 - val_loss: 0.5541 - val_accuracy: 0.7316\n",
      "Epoch 34/100\n",
      "644/644 [==============================] - 0s 743us/step - loss: 0.5270 - accuracy: 0.7440 - val_loss: 0.5538 - val_accuracy: 0.7287\n",
      "Epoch 35/100\n",
      "616/644 [===========================>..] - ETA: 0s - loss: 0.5275 - accuracy: 0.7445\n",
      "Epoch 35: saving model to checkpoints/weights.35.hdf5\n",
      "644/644 [==============================] - 0s 763us/step - loss: 0.5262 - accuracy: 0.7454 - val_loss: 0.5550 - val_accuracy: 0.7316\n",
      "Epoch 36/100\n",
      "644/644 [==============================] - 0s 757us/step - loss: 0.5266 - accuracy: 0.7443 - val_loss: 0.5546 - val_accuracy: 0.7287\n",
      "Epoch 37/100\n",
      "644/644 [==============================] - 0s 764us/step - loss: 0.5257 - accuracy: 0.7442 - val_loss: 0.5562 - val_accuracy: 0.7273\n",
      "Epoch 38/100\n",
      "644/644 [==============================] - 1s 878us/step - loss: 0.5255 - accuracy: 0.7450 - val_loss: 0.5542 - val_accuracy: 0.7294\n",
      "Epoch 39/100\n",
      "644/644 [==============================] - 1s 814us/step - loss: 0.5253 - accuracy: 0.7461 - val_loss: 0.5547 - val_accuracy: 0.7271\n",
      "Epoch 40/100\n",
      "569/644 [=========================>....] - ETA: 0s - loss: 0.5261 - accuracy: 0.7446\n",
      "Epoch 40: saving model to checkpoints/weights.40.hdf5\n",
      "644/644 [==============================] - 1s 801us/step - loss: 0.5250 - accuracy: 0.7452 - val_loss: 0.5571 - val_accuracy: 0.7275\n",
      "Epoch 41/100\n",
      "644/644 [==============================] - 1s 806us/step - loss: 0.5253 - accuracy: 0.7451 - val_loss: 0.5542 - val_accuracy: 0.7302\n",
      "Epoch 42/100\n",
      "644/644 [==============================] - 1s 810us/step - loss: 0.5248 - accuracy: 0.7448 - val_loss: 0.5559 - val_accuracy: 0.7304\n",
      "Epoch 43/100\n",
      "644/644 [==============================] - 1s 806us/step - loss: 0.5254 - accuracy: 0.7445 - val_loss: 0.5570 - val_accuracy: 0.7273\n",
      "Epoch 44/100\n",
      "644/644 [==============================] - 0s 770us/step - loss: 0.5249 - accuracy: 0.7460 - val_loss: 0.5569 - val_accuracy: 0.7277\n",
      "Epoch 45/100\n",
      "618/644 [===========================>..] - ETA: 0s - loss: 0.5237 - accuracy: 0.7462\n",
      "Epoch 45: saving model to checkpoints/weights.45.hdf5\n",
      "644/644 [==============================] - 0s 741us/step - loss: 0.5241 - accuracy: 0.7459 - val_loss: 0.5567 - val_accuracy: 0.7279\n",
      "Epoch 46/100\n",
      "644/644 [==============================] - 0s 731us/step - loss: 0.5239 - accuracy: 0.7453 - val_loss: 0.5554 - val_accuracy: 0.7312\n",
      "Epoch 47/100\n",
      "644/644 [==============================] - 0s 752us/step - loss: 0.5238 - accuracy: 0.7461 - val_loss: 0.5563 - val_accuracy: 0.7277\n",
      "Epoch 48/100\n",
      "644/644 [==============================] - 1s 810us/step - loss: 0.5237 - accuracy: 0.7452 - val_loss: 0.5569 - val_accuracy: 0.7300\n",
      "Epoch 49/100\n",
      "644/644 [==============================] - 1s 788us/step - loss: 0.5237 - accuracy: 0.7459 - val_loss: 0.5553 - val_accuracy: 0.7308\n",
      "Epoch 50/100\n",
      "618/644 [===========================>..] - ETA: 0s - loss: 0.5228 - accuracy: 0.7459\n",
      "Epoch 50: saving model to checkpoints/weights.50.hdf5\n",
      "644/644 [==============================] - 0s 746us/step - loss: 0.5235 - accuracy: 0.7452 - val_loss: 0.5570 - val_accuracy: 0.7310\n",
      "Epoch 51/100\n",
      "644/644 [==============================] - 0s 736us/step - loss: 0.5233 - accuracy: 0.7456 - val_loss: 0.5576 - val_accuracy: 0.7306\n",
      "Epoch 52/100\n",
      "644/644 [==============================] - 1s 810us/step - loss: 0.5230 - accuracy: 0.7468 - val_loss: 0.5569 - val_accuracy: 0.7294\n",
      "Epoch 53/100\n",
      "644/644 [==============================] - 1s 791us/step - loss: 0.5226 - accuracy: 0.7461 - val_loss: 0.5594 - val_accuracy: 0.7273\n",
      "Epoch 54/100\n",
      "644/644 [==============================] - 0s 738us/step - loss: 0.5232 - accuracy: 0.7461 - val_loss: 0.5585 - val_accuracy: 0.7281\n",
      "Epoch 55/100\n",
      "604/644 [===========================>..] - ETA: 0s - loss: 0.5213 - accuracy: 0.7480\n",
      "Epoch 55: saving model to checkpoints/weights.55.hdf5\n",
      "644/644 [==============================] - 0s 762us/step - loss: 0.5227 - accuracy: 0.7462 - val_loss: 0.5565 - val_accuracy: 0.7316\n",
      "Epoch 56/100\n",
      "644/644 [==============================] - 0s 740us/step - loss: 0.5227 - accuracy: 0.7465 - val_loss: 0.5583 - val_accuracy: 0.7310\n",
      "Epoch 57/100\n",
      "644/644 [==============================] - 1s 814us/step - loss: 0.5224 - accuracy: 0.7465 - val_loss: 0.5576 - val_accuracy: 0.7310\n",
      "Epoch 58/100\n",
      "644/644 [==============================] - 1s 867us/step - loss: 0.5223 - accuracy: 0.7463 - val_loss: 0.5593 - val_accuracy: 0.7314\n",
      "Epoch 59/100\n",
      "644/644 [==============================] - 1s 808us/step - loss: 0.5222 - accuracy: 0.7455 - val_loss: 0.5611 - val_accuracy: 0.7300\n",
      "Epoch 60/100\n",
      "598/644 [==========================>...] - ETA: 0s - loss: 0.5218 - accuracy: 0.7475\n",
      "Epoch 60: saving model to checkpoints/weights.60.hdf5\n",
      "644/644 [==============================] - 0s 764us/step - loss: 0.5227 - accuracy: 0.7467 - val_loss: 0.5585 - val_accuracy: 0.7312\n",
      "Epoch 61/100\n",
      "644/644 [==============================] - 0s 737us/step - loss: 0.5218 - accuracy: 0.7465 - val_loss: 0.5602 - val_accuracy: 0.7302\n",
      "Epoch 62/100\n",
      "644/644 [==============================] - 1s 838us/step - loss: 0.5217 - accuracy: 0.7462 - val_loss: 0.5609 - val_accuracy: 0.7265\n",
      "Epoch 63/100\n",
      "644/644 [==============================] - 1s 804us/step - loss: 0.5218 - accuracy: 0.7473 - val_loss: 0.5607 - val_accuracy: 0.7302\n",
      "Epoch 64/100\n",
      "644/644 [==============================] - 0s 748us/step - loss: 0.5216 - accuracy: 0.7467 - val_loss: 0.5599 - val_accuracy: 0.7298\n",
      "Epoch 65/100\n",
      "620/644 [===========================>..] - ETA: 0s - loss: 0.5216 - accuracy: 0.7463\n",
      "Epoch 65: saving model to checkpoints/weights.65.hdf5\n",
      "644/644 [==============================] - 0s 744us/step - loss: 0.5219 - accuracy: 0.7462 - val_loss: 0.5588 - val_accuracy: 0.7312\n",
      "Epoch 66/100\n",
      "644/644 [==============================] - 0s 768us/step - loss: 0.5212 - accuracy: 0.7467 - val_loss: 0.5610 - val_accuracy: 0.7302\n",
      "Epoch 67/100\n",
      "644/644 [==============================] - 0s 762us/step - loss: 0.5213 - accuracy: 0.7471 - val_loss: 0.5619 - val_accuracy: 0.7310\n",
      "Epoch 68/100\n",
      "644/644 [==============================] - 1s 815us/step - loss: 0.5211 - accuracy: 0.7474 - val_loss: 0.5603 - val_accuracy: 0.7296\n",
      "Epoch 69/100\n",
      "644/644 [==============================] - 1s 820us/step - loss: 0.5211 - accuracy: 0.7468 - val_loss: 0.5609 - val_accuracy: 0.7271\n",
      "Epoch 70/100\n",
      "572/644 [=========================>....] - ETA: 0s - loss: 0.5225 - accuracy: 0.7456\n",
      "Epoch 70: saving model to checkpoints/weights.70.hdf5\n",
      "644/644 [==============================] - 1s 799us/step - loss: 0.5215 - accuracy: 0.7471 - val_loss: 0.5580 - val_accuracy: 0.7294\n",
      "Epoch 71/100\n",
      "644/644 [==============================] - 1s 792us/step - loss: 0.5217 - accuracy: 0.7465 - val_loss: 0.5606 - val_accuracy: 0.7293\n",
      "Epoch 72/100\n",
      "644/644 [==============================] - 1s 846us/step - loss: 0.5204 - accuracy: 0.7478 - val_loss: 0.5618 - val_accuracy: 0.7298\n",
      "Epoch 73/100\n",
      "644/644 [==============================] - 1s 828us/step - loss: 0.5202 - accuracy: 0.7472 - val_loss: 0.5627 - val_accuracy: 0.7308\n",
      "Epoch 74/100\n",
      "644/644 [==============================] - 1s 816us/step - loss: 0.5206 - accuracy: 0.7472 - val_loss: 0.5614 - val_accuracy: 0.7316\n",
      "Epoch 75/100\n",
      "582/644 [==========================>...] - ETA: 0s - loss: 0.5197 - accuracy: 0.7468\n",
      "Epoch 75: saving model to checkpoints/weights.75.hdf5\n",
      "644/644 [==============================] - 1s 794us/step - loss: 0.5202 - accuracy: 0.7473 - val_loss: 0.5624 - val_accuracy: 0.7298\n",
      "Epoch 76/100\n",
      "644/644 [==============================] - 1s 786us/step - loss: 0.5197 - accuracy: 0.7463 - val_loss: 0.5623 - val_accuracy: 0.7296\n",
      "Epoch 77/100\n",
      "644/644 [==============================] - 1s 828us/step - loss: 0.5198 - accuracy: 0.7471 - val_loss: 0.5623 - val_accuracy: 0.7314\n",
      "Epoch 78/100\n",
      "644/644 [==============================] - 1s 899us/step - loss: 0.5202 - accuracy: 0.7471 - val_loss: 0.5605 - val_accuracy: 0.7318\n",
      "Epoch 79/100\n",
      "644/644 [==============================] - 1s 823us/step - loss: 0.5203 - accuracy: 0.7474 - val_loss: 0.5648 - val_accuracy: 0.7320\n",
      "Epoch 80/100\n",
      "640/644 [============================>.] - ETA: 0s - loss: 0.5200 - accuracy: 0.7470\n",
      "Epoch 80: saving model to checkpoints/weights.80.hdf5\n",
      "644/644 [==============================] - 1s 810us/step - loss: 0.5202 - accuracy: 0.7469 - val_loss: 0.5641 - val_accuracy: 0.7300\n",
      "Epoch 81/100\n",
      "644/644 [==============================] - 1s 804us/step - loss: 0.5204 - accuracy: 0.7475 - val_loss: 0.5631 - val_accuracy: 0.7302\n",
      "Epoch 82/100\n",
      "644/644 [==============================] - 1s 836us/step - loss: 0.5200 - accuracy: 0.7479 - val_loss: 0.5627 - val_accuracy: 0.7302\n",
      "Epoch 83/100\n",
      "644/644 [==============================] - 1s 810us/step - loss: 0.5195 - accuracy: 0.7478 - val_loss: 0.5640 - val_accuracy: 0.7302\n",
      "Epoch 84/100\n",
      "644/644 [==============================] - 1s 796us/step - loss: 0.5195 - accuracy: 0.7474 - val_loss: 0.5627 - val_accuracy: 0.7294\n",
      "Epoch 85/100\n",
      "581/644 [==========================>...] - ETA: 0s - loss: 0.5185 - accuracy: 0.7487\n",
      "Epoch 85: saving model to checkpoints/weights.85.hdf5\n",
      "644/644 [==============================] - 1s 800us/step - loss: 0.5197 - accuracy: 0.7479 - val_loss: 0.5625 - val_accuracy: 0.7296\n",
      "Epoch 86/100\n",
      "644/644 [==============================] - 1s 817us/step - loss: 0.5192 - accuracy: 0.7464 - val_loss: 0.5662 - val_accuracy: 0.7296\n",
      "Epoch 87/100\n",
      "644/644 [==============================] - 1s 806us/step - loss: 0.5208 - accuracy: 0.7469 - val_loss: 0.5620 - val_accuracy: 0.7308\n",
      "Epoch 88/100\n",
      "644/644 [==============================] - 1s 850us/step - loss: 0.5200 - accuracy: 0.7469 - val_loss: 0.5627 - val_accuracy: 0.7281\n",
      "Epoch 89/100\n",
      "644/644 [==============================] - 1s 937us/step - loss: 0.5196 - accuracy: 0.7468 - val_loss: 0.5641 - val_accuracy: 0.7291\n",
      "Epoch 90/100\n",
      "589/644 [==========================>...] - ETA: 0s - loss: 0.5199 - accuracy: 0.7469\n",
      "Epoch 90: saving model to checkpoints/weights.90.hdf5\n",
      "644/644 [==============================] - 1s 886us/step - loss: 0.5186 - accuracy: 0.7476 - val_loss: 0.5660 - val_accuracy: 0.7291\n",
      "Epoch 91/100\n",
      "644/644 [==============================] - 1s 877us/step - loss: 0.5184 - accuracy: 0.7466 - val_loss: 0.5642 - val_accuracy: 0.7277\n",
      "Epoch 92/100\n",
      "644/644 [==============================] - 1s 823us/step - loss: 0.5188 - accuracy: 0.7475 - val_loss: 0.5639 - val_accuracy: 0.7296\n",
      "Epoch 93/100\n",
      "644/644 [==============================] - 1s 843us/step - loss: 0.5185 - accuracy: 0.7491 - val_loss: 0.5650 - val_accuracy: 0.7269\n",
      "Epoch 94/100\n",
      "644/644 [==============================] - 1s 818us/step - loss: 0.5197 - accuracy: 0.7473 - val_loss: 0.5661 - val_accuracy: 0.7289\n",
      "Epoch 95/100\n",
      "637/644 [============================>.] - ETA: 0s - loss: 0.5206 - accuracy: 0.7471\n",
      "Epoch 95: saving model to checkpoints/weights.95.hdf5\n",
      "644/644 [==============================] - 1s 821us/step - loss: 0.5204 - accuracy: 0.7472 - val_loss: 0.5665 - val_accuracy: 0.7269\n",
      "Epoch 96/100\n",
      "644/644 [==============================] - 1s 800us/step - loss: 0.5193 - accuracy: 0.7471 - val_loss: 0.5658 - val_accuracy: 0.7294\n",
      "Epoch 97/100\n",
      "644/644 [==============================] - 1s 934us/step - loss: 0.5195 - accuracy: 0.7474 - val_loss: 0.5644 - val_accuracy: 0.7304\n",
      "Epoch 98/100\n",
      "644/644 [==============================] - 1s 861us/step - loss: 0.5189 - accuracy: 0.7480 - val_loss: 0.5648 - val_accuracy: 0.7296\n",
      "Epoch 99/100\n",
      "644/644 [==============================] - 1s 820us/step - loss: 0.5188 - accuracy: 0.7477 - val_loss: 0.5659 - val_accuracy: 0.7310\n",
      "Epoch 100/100\n",
      "624/644 [============================>.] - ETA: 0s - loss: 0.5186 - accuracy: 0.7483\n",
      "Epoch 100: saving model to checkpoints/weights.100.hdf5\n",
      "644/644 [==============================] - 1s 827us/step - loss: 0.5189 - accuracy: 0.7486 - val_loss: 0.5658 - val_accuracy: 0.7308\n"
     ]
    }
   ],
   "source": [
    "import os\n",
    "from tensorflow.keras.callbacks import ModelCheckpoint, EarlyStopping\n",
    "\n",
    "os.makedirs(\"checkpoints/\", exist_ok=True)\n",
    "checkpoint_path = \"checkpoints/weights.{epoch:02d}.hdf5\"\n",
    "\n",
    "# Create a callback for early stopping on the basis of validation loss\n",
    "es_callback = EarlyStopping(monitor='accuracy', patience=6)\n",
    "\n",
    "# Create a callback to save the model's weights every 5 epochs\n",
    "cp_callback = ModelCheckpoint(filepath=checkpoint_path, verbose=1, save_weights_only=True, save_freq='epoch', period=5)\n",
    "\n",
    "# Train the model\n",
    "fit_model = nn.fit(X_train_scaled, y_train, epochs=100, validation_split=0.2, \n",
    "                   callbacks=[cp_callback])\n"
   ]
  },
  {
   "cell_type": "code",
   "execution_count": 30,
   "metadata": {},
   "outputs": [
    {
     "name": "stdout",
     "output_type": "stream",
     "text": [
      "268/268 - 0s - loss: 0.5759 - accuracy: 0.7231 - 90ms/epoch - 335us/step\n",
      "Loss: 0.5759190917015076, Accuracy: 0.7231487035751343\n"
     ]
    }
   ],
   "source": [
    "# Evaluate the model using the test data\n",
    "model_loss, model_accuracy = nn.evaluate(X_test_scaled,y_test,verbose=2)\n",
    "print(f\"Loss: {model_loss}, Accuracy: {model_accuracy}\")"
   ]
  },
  {
   "cell_type": "code",
   "execution_count": 31,
   "metadata": {},
   "outputs": [
    {
     "name": "stderr",
     "output_type": "stream",
     "text": [
      "/Library/Frameworks/Python.framework/Versions/3.11/lib/python3.11/site-packages/keras/src/engine/training.py:3000: UserWarning: You are saving your model as an HDF5 file via `model.save()`. This file format is considered legacy. We recommend using instead the native Keras format, e.g. `model.save('my_model.keras')`.\n",
      "  saving_api.save_model(\n"
     ]
    }
   ],
   "source": [
    "# Export our model to HDF5 file\n",
    "nn.save(\"AlphabetSoupCharity.h5\")\n"
   ]
  }
 ],
 "metadata": {
  "kernelspec": {
   "display_name": "Python 3",
   "language": "python",
   "name": "python3"
  },
  "language_info": {
   "codemirror_mode": {
    "name": "ipython",
    "version": 3
   },
   "file_extension": ".py",
   "mimetype": "text/x-python",
   "name": "python",
   "nbconvert_exporter": "python",
   "pygments_lexer": "ipython3",
   "version": "3.11.2"
  },
  "vscode": {
   "interpreter": {
    "hash": "31f2aee4e71d21fbe5cf8b01ff0e069b9275f58929596ceb00d14d90e3e16cd6"
   }
  }
 },
 "nbformat": 4,
 "nbformat_minor": 4
}
